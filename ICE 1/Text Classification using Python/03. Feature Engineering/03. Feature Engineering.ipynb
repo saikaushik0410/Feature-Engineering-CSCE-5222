{
 "cells": [
  {
   "cell_type": "markdown",
   "metadata": {},
   "source": [
    "# Feature Engineering"
   ]
  },
  {
   "cell_type": "markdown",
   "metadata": {},
   "source": [
    "The next step is to create features from the raw text so we can train the machine learning models. The steps followed are:\n",
    "\n",
    "1. **Text Cleaning and Preparation**: cleaning of special characters, downcasing, punctuation signs. possessive pronouns and stop words removal and lemmatization. \n",
    "2. **Label coding**: creation of a dictionary to map each category to a code.\n",
    "3. **Train-test split**: to test the models on unseen data.\n",
    "4. **Text representation**: use of TF-IDF scores to represent text."
   ]
  },
  {
   "cell_type": "code",
   "execution_count": 40,
   "metadata": {},
   "outputs": [],
   "source": [
    "import pickle\n",
    "import pandas as pd\n",
    "import re\n",
    "import nltk\n",
    "from nltk.corpus import stopwords\n",
    "from nltk.stem import WordNetLemmatizer\n",
    "from sklearn.feature_extraction.text import TfidfVectorizer\n",
    "from sklearn.model_selection import train_test_split\n",
    "from sklearn.feature_selection import chi2\n",
    "import numpy as np"
   ]
  },
  {
   "cell_type": "markdown",
   "metadata": {},
   "source": [
    "First of all we'll load the dataset:"
   ]
  },
  {
   "cell_type": "code",
   "execution_count": 41,
   "metadata": {},
   "outputs": [],
   "source": [
    "path_df = \"C:/Users/Sai Kaushik/Desktop/Feature Engineering/ICE 1/Latest-News-Classifier-master/0. Latest News Classifier/02. Exploratory Data Analysis/News_dataset.pickle\"\n",
    "\n",
    "with open(path_df, 'rb') as data:\n",
    "    df = pickle.load(data)"
   ]
  },
  {
   "cell_type": "code",
   "execution_count": 42,
   "metadata": {},
   "outputs": [
    {
     "data": {
      "text/html": [
       "<div>\n",
       "<style scoped>\n",
       "    .dataframe tbody tr th:only-of-type {\n",
       "        vertical-align: middle;\n",
       "    }\n",
       "\n",
       "    .dataframe tbody tr th {\n",
       "        vertical-align: top;\n",
       "    }\n",
       "\n",
       "    .dataframe thead th {\n",
       "        text-align: right;\n",
       "    }\n",
       "</style>\n",
       "<table border=\"1\" class=\"dataframe\">\n",
       "  <thead>\n",
       "    <tr style=\"text-align: right;\">\n",
       "      <th></th>\n",
       "      <th>File_Name</th>\n",
       "      <th>Content</th>\n",
       "      <th>Category</th>\n",
       "      <th>Complete_Filename</th>\n",
       "      <th>id</th>\n",
       "      <th>News_length</th>\n",
       "    </tr>\n",
       "  </thead>\n",
       "  <tbody>\n",
       "    <tr>\n",
       "      <th>0</th>\n",
       "      <td>001.txt</td>\n",
       "      <td>Why the feds are investigating Teslaâ€™s Autop...</td>\n",
       "      <td>Tesla</td>\n",
       "      <td>001.txt-Tesla</td>\n",
       "      <td>1</td>\n",
       "      <td>5657</td>\n",
       "    </tr>\n",
       "    <tr>\n",
       "      <th>1</th>\n",
       "      <td>002.txt</td>\n",
       "      <td>Tesla Wants To Launch Full Self-Driving Public...</td>\n",
       "      <td>Tesla</td>\n",
       "      <td>002.txt-Tesla</td>\n",
       "      <td>1</td>\n",
       "      <td>2592</td>\n",
       "    </tr>\n",
       "    <tr>\n",
       "      <th>2</th>\n",
       "      <td>003.txt</td>\n",
       "      <td>How Good Is Tesla Full Self-Driving (Beta) Rig...</td>\n",
       "      <td>Tesla</td>\n",
       "      <td>003.txt-Tesla</td>\n",
       "      <td>1</td>\n",
       "      <td>6568</td>\n",
       "    </tr>\n",
       "    <tr>\n",
       "      <th>3</th>\n",
       "      <td>004.txt</td>\n",
       "      <td>Tesla Must Send Autopilot Data to Feds by Octo...</td>\n",
       "      <td>Tesla</td>\n",
       "      <td>004.txt-Tesla</td>\n",
       "      <td>1</td>\n",
       "      <td>3704</td>\n",
       "    </tr>\n",
       "    <tr>\n",
       "      <th>4</th>\n",
       "      <td>005.txt</td>\n",
       "      <td>Survey Reveals Tesla's Full Self-Driving Take ...</td>\n",
       "      <td>Tesla</td>\n",
       "      <td>005.txt-Tesla</td>\n",
       "      <td>1</td>\n",
       "      <td>3994</td>\n",
       "    </tr>\n",
       "  </tbody>\n",
       "</table>\n",
       "</div>"
      ],
      "text/plain": [
       "  File_Name                                            Content Category  \\\n",
       "0   001.txt  Why the feds are investigating Teslaâ€™s Autop...    Tesla   \n",
       "1   002.txt  Tesla Wants To Launch Full Self-Driving Public...    Tesla   \n",
       "2   003.txt  How Good Is Tesla Full Self-Driving (Beta) Rig...    Tesla   \n",
       "3   004.txt  Tesla Must Send Autopilot Data to Feds by Octo...    Tesla   \n",
       "4   005.txt  Survey Reveals Tesla's Full Self-Driving Take ...    Tesla   \n",
       "\n",
       "  Complete_Filename  id  News_length  \n",
       "0     001.txt-Tesla   1         5657  \n",
       "1     002.txt-Tesla   1         2592  \n",
       "2     003.txt-Tesla   1         6568  \n",
       "3     004.txt-Tesla   1         3704  \n",
       "4     005.txt-Tesla   1         3994  "
      ]
     },
     "execution_count": 42,
     "metadata": {},
     "output_type": "execute_result"
    }
   ],
   "source": [
    "df.head()"
   ]
  },
  {
   "cell_type": "markdown",
   "metadata": {},
   "source": [
    "And visualize one sample news content:"
   ]
  },
  {
   "cell_type": "code",
   "execution_count": 43,
   "metadata": {},
   "outputs": [
    {
     "data": {
      "text/plain": [
       "\"Tesla Wants To Launch Full Self-Driving Public Beta In September\\r\\nAfter a few days ago Elon Musk announced that the public debut of Full Self-Driving Beta was just weeks away, now the Tesla CEO has tweeted the exact time and date when Version 10 Beta will be made available to beta testers. Musk has now officially set the date for next Friday and he expects that about two weeks after that (around September 25), an updated version, Beta 10.1 is expected to be good enough for public rollout.\\r\\n\\r\\nSo after being postponed several times and many months, it looks like all Tesla owners whose vehicles have the right hardware will be able to experience FSD. The software and the neural network behind it have been improved a lot recently and Tesla opted to eliminate the need for anything other than cameras with Version 9 of the system, what the manufacturer called 'Pure Vision.'\\r\\n\\r\\nThe way Elon phrased it in his tweet, though, itâ€™s clear heâ€™s not 100 percent confident that Version 10.1 will, in fact, be good enough for public release. Not that long ago, he admitted that making cars that drive themselves is a far harder task than he anticipated and combined that with the ongoing NHTSA investigation into the Autopilot feature and you can understand why the manufacturer will treat this public rollout with maximum caution.\\r\\n\\r\\nEven if the deadline is respected, this still only means Tesla drivers from the US will gain access to FSD, but not those from Canada, Europe or China. Regarding Canada, though, it could probably be next after the US, and Musk expects that FSD will be made available in the country in a few monthsâ€™ time, while no date for Europe has thus far been set.\\r\\nAfter a few days ago Elon Musk announced that the public debut of Full Self-Driving Beta was just weeks away, now the Tesla CEO has tweeted the exact time and date when Version 10 Beta will be made available to beta testers.\\r\\nMusk has now officially set the date for next Friday and he expects that about two weeks after that (around September 25), an updated version, Beta 10.1 is expected to be good enough for public rollout.\\r\\nSo after being postponed several times and many months, it looks like all Tesla owners whose vehicles have the right hardware will be able to experience FSD.\\r\\nThe way Elon phrased it in his tweet, though, itâ€™s clear heâ€™s not 100 percent confident that Version 10.1 will, in fact, be good enough for public release.\\r\\nEven if the deadline is respected, this still only means Tesla drivers from the US will gain access to FSD, but not those from Canada, Europe or China.\""
      ]
     },
     "execution_count": 43,
     "metadata": {},
     "output_type": "execute_result"
    }
   ],
   "source": [
    "df.loc[1]['Content']"
   ]
  },
  {
   "cell_type": "markdown",
   "metadata": {},
   "source": [
    "## 1. Text cleaning and preparation"
   ]
  },
  {
   "cell_type": "markdown",
   "metadata": {},
   "source": [
    "### 1.1. Special character cleaning\n",
    "\n",
    "We can see the following special characters:\n",
    "\n",
    "* ``\\r``\n",
    "* ``\\n``\n",
    "* ``\\`` before possessive pronouns (`government's = government\\'s`)\n",
    "* ``\\`` before possessive pronouns 2 (`Yukos'` = `Yukos\\'`)\n",
    "* ``\"`` when quoting text"
   ]
  },
  {
   "cell_type": "code",
   "execution_count": 44,
   "metadata": {},
   "outputs": [],
   "source": [
    "# \\r and \\n\n",
    "df['Content_Parsed_1'] = df['Content'].str.replace(\"\\r\", \" \")\n",
    "df['Content_Parsed_1'] = df['Content_Parsed_1'].str.replace(\"\\n\", \" \")\n",
    "df['Content_Parsed_1'] = df['Content_Parsed_1'].str.replace(\"    \", \" \")"
   ]
  },
  {
   "cell_type": "markdown",
   "metadata": {},
   "source": [
    "Regarding 3rd and 4th bullet, although it seems there is a special character, it won't affect us since it is not a *real* character:"
   ]
  },
  {
   "cell_type": "code",
   "execution_count": 45,
   "metadata": {},
   "outputs": [
    {
     "data": {
      "text/plain": [
       "\"Mr Greenspan's\""
      ]
     },
     "execution_count": 45,
     "metadata": {},
     "output_type": "execute_result"
    }
   ],
   "source": [
    "text = \"Mr Greenspan\\'s\"\n",
    "text"
   ]
  },
  {
   "cell_type": "code",
   "execution_count": 46,
   "metadata": {},
   "outputs": [],
   "source": [
    "# \" when quoting text\n",
    "df['Content_Parsed_1'] = df['Content_Parsed_1'].str.replace('\"', '')"
   ]
  },
  {
   "cell_type": "markdown",
   "metadata": {},
   "source": [
    "### 1.2. Upcase/downcase"
   ]
  },
  {
   "cell_type": "markdown",
   "metadata": {},
   "source": [
    "We'll downcase the texts because we want, for example, `Football` and `football` to be the same word."
   ]
  },
  {
   "cell_type": "code",
   "execution_count": 47,
   "metadata": {},
   "outputs": [],
   "source": [
    "# Lowercasing the text\n",
    "df['Content_Parsed_2'] = df['Content_Parsed_1'].str.lower()"
   ]
  },
  {
   "cell_type": "markdown",
   "metadata": {},
   "source": [
    "### 1.3. Punctuation signs"
   ]
  },
  {
   "cell_type": "markdown",
   "metadata": {},
   "source": [
    "Punctuation signs won't have any predicting power, so we'll just get rid of them."
   ]
  },
  {
   "cell_type": "code",
   "execution_count": 48,
   "metadata": {},
   "outputs": [
    {
     "name": "stderr",
     "output_type": "stream",
     "text": [
      "<ipython-input-48-cdceb98d92a9>:5: FutureWarning: The default value of regex will change from True to False in a future version. In addition, single character regular expressions will*not* be treated as literal strings when regex=True.\n",
      "  df['Content_Parsed_3'] = df['Content_Parsed_3'].str.replace(punct_sign, '')\n"
     ]
    }
   ],
   "source": [
    "punctuation_signs = list(\"?:!.,;\")\n",
    "df['Content_Parsed_3'] = df['Content_Parsed_2']\n",
    "\n",
    "for punct_sign in punctuation_signs:\n",
    "    df['Content_Parsed_3'] = df['Content_Parsed_3'].str.replace(punct_sign, '')"
   ]
  },
  {
   "cell_type": "markdown",
   "metadata": {},
   "source": [
    "By doing this we are messing up with some numbers, but it's no problem since we aren't expecting any predicting power from them."
   ]
  },
  {
   "cell_type": "markdown",
   "metadata": {},
   "source": [
    "### 1.4. Possessive pronouns"
   ]
  },
  {
   "cell_type": "markdown",
   "metadata": {},
   "source": [
    "We'll also remove possessive pronoun terminations:"
   ]
  },
  {
   "cell_type": "code",
   "execution_count": 49,
   "metadata": {},
   "outputs": [],
   "source": [
    "df['Content_Parsed_4'] = df['Content_Parsed_3'].str.replace(\"'s\", \"\")"
   ]
  },
  {
   "cell_type": "markdown",
   "metadata": {},
   "source": [
    "### 1.5. Stemming and Lemmatization\n",
    "\n",
    "Since stemming can produce output words that don't exist, we'll only use a lemmatization process at this moment. Lemmatization takes into consideration the morphological analysis of the words and returns words that do exist, so it will be more useful for us."
   ]
  },
  {
   "cell_type": "code",
   "execution_count": 50,
   "metadata": {},
   "outputs": [
    {
     "name": "stdout",
     "output_type": "stream",
     "text": [
      "------------------------------------------------------------\n"
     ]
    },
    {
     "name": "stderr",
     "output_type": "stream",
     "text": [
      "[nltk_data] Downloading package punkt to C:\\Users\\Sai\n",
      "[nltk_data]     Kaushik\\AppData\\Roaming\\nltk_data...\n",
      "[nltk_data]   Package punkt is already up-to-date!\n",
      "[nltk_data] Downloading package wordnet to C:\\Users\\Sai\n",
      "[nltk_data]     Kaushik\\AppData\\Roaming\\nltk_data...\n",
      "[nltk_data]   Package wordnet is already up-to-date!\n"
     ]
    },
    {
     "data": {
      "text/plain": [
       "True"
      ]
     },
     "execution_count": 50,
     "metadata": {},
     "output_type": "execute_result"
    }
   ],
   "source": [
    "# Downloading punkt and wordnet from NLTK\n",
    "nltk.download('punkt')\n",
    "print(\"------------------------------------------------------------\")\n",
    "nltk.download('wordnet')"
   ]
  },
  {
   "cell_type": "code",
   "execution_count": 51,
   "metadata": {},
   "outputs": [],
   "source": [
    "# Saving the lemmatizer into an object\n",
    "wordnet_lemmatizer = WordNetLemmatizer()"
   ]
  },
  {
   "cell_type": "markdown",
   "metadata": {},
   "source": [
    "In order to lemmatize, we have to iterate through every word:"
   ]
  },
  {
   "cell_type": "code",
   "execution_count": 52,
   "metadata": {},
   "outputs": [],
   "source": [
    "nrows = len(df)\n",
    "lemmatized_text_list = []\n",
    "\n",
    "for row in range(0, nrows):\n",
    "    \n",
    "    # Create an empty list containing lemmatized words\n",
    "    lemmatized_list = []\n",
    "    \n",
    "    # Save the text and its words into an object\n",
    "    text = df.loc[row]['Content_Parsed_4']\n",
    "    text_words = text.split(\" \")\n",
    "\n",
    "    # Iterate through every word to lemmatize\n",
    "    for word in text_words:\n",
    "        lemmatized_list.append(wordnet_lemmatizer.lemmatize(word, pos=\"v\"))\n",
    "        \n",
    "    # Join the list\n",
    "    lemmatized_text = \" \".join(lemmatized_list)\n",
    "    \n",
    "    # Append to the list containing the texts\n",
    "    lemmatized_text_list.append(lemmatized_text)"
   ]
  },
  {
   "cell_type": "code",
   "execution_count": 53,
   "metadata": {},
   "outputs": [],
   "source": [
    "df['Content_Parsed_5'] = lemmatized_text_list"
   ]
  },
  {
   "cell_type": "markdown",
   "metadata": {},
   "source": [
    "Although lemmatization doesn't work perfectly in all cases (as can be seen in the example below), it can be useful."
   ]
  },
  {
   "cell_type": "markdown",
   "metadata": {},
   "source": [
    "### 1.6. Stop words"
   ]
  },
  {
   "cell_type": "code",
   "execution_count": 54,
   "metadata": {},
   "outputs": [
    {
     "name": "stderr",
     "output_type": "stream",
     "text": [
      "[nltk_data] Downloading package stopwords to C:\\Users\\Sai\n",
      "[nltk_data]     Kaushik\\AppData\\Roaming\\nltk_data...\n",
      "[nltk_data]   Package stopwords is already up-to-date!\n"
     ]
    },
    {
     "data": {
      "text/plain": [
       "True"
      ]
     },
     "execution_count": 54,
     "metadata": {},
     "output_type": "execute_result"
    }
   ],
   "source": [
    "# Downloading the stop words list\n",
    "nltk.download('stopwords')"
   ]
  },
  {
   "cell_type": "code",
   "execution_count": 55,
   "metadata": {},
   "outputs": [],
   "source": [
    "# Loading the stop words in english\n",
    "stop_words = list(stopwords.words('english'))"
   ]
  },
  {
   "cell_type": "code",
   "execution_count": 56,
   "metadata": {},
   "outputs": [
    {
     "data": {
      "text/plain": [
       "['i', 'me', 'my', 'myself', 'we', 'our', 'ours', 'ourselves', 'you', \"you're\"]"
      ]
     },
     "execution_count": 56,
     "metadata": {},
     "output_type": "execute_result"
    }
   ],
   "source": [
    "stop_words[0:10]"
   ]
  },
  {
   "cell_type": "markdown",
   "metadata": {},
   "source": [
    "To remove the stop words, we'll handle a regular expression only detecting whole words, as seen in the following example:"
   ]
  },
  {
   "cell_type": "code",
   "execution_count": 57,
   "metadata": {
    "scrolled": true
   },
   "outputs": [
    {
     "data": {
      "text/plain": [
       "'StopWord eating a meal'"
      ]
     },
     "execution_count": 57,
     "metadata": {},
     "output_type": "execute_result"
    }
   ],
   "source": [
    "example = \"me eating a meal\"\n",
    "word = \"me\"\n",
    "\n",
    "# The regular expression is:\n",
    "regex = r\"\\b\" + word + r\"\\b\"  # we need to build it like that to work properly\n",
    "\n",
    "re.sub(regex, \"StopWord\", example)"
   ]
  },
  {
   "cell_type": "markdown",
   "metadata": {},
   "source": [
    "We can now loop through all the stop words:"
   ]
  },
  {
   "cell_type": "code",
   "execution_count": 58,
   "metadata": {},
   "outputs": [
    {
     "name": "stderr",
     "output_type": "stream",
     "text": [
      "<ipython-input-58-3b7196a1b53b>:6: FutureWarning: The default value of regex will change from True to False in a future version.\n",
      "  df['Content_Parsed_6'] = df['Content_Parsed_6'].str.replace(regex_stopword, '')\n"
     ]
    }
   ],
   "source": [
    "df['Content_Parsed_6'] = df['Content_Parsed_5']\n",
    "\n",
    "for stop_word in stop_words:\n",
    "\n",
    "    regex_stopword = r\"\\b\" + stop_word + r\"\\b\"\n",
    "    df['Content_Parsed_6'] = df['Content_Parsed_6'].str.replace(regex_stopword, '')"
   ]
  },
  {
   "cell_type": "markdown",
   "metadata": {},
   "source": [
    "We have some dobule/triple spaces between words because of the replacements. However, it's not a problem because we'll tokenize by the spaces later."
   ]
  },
  {
   "cell_type": "markdown",
   "metadata": {},
   "source": [
    "As an example, we'll show an original news article and its modifications throughout the process:"
   ]
  },
  {
   "cell_type": "code",
   "execution_count": 59,
   "metadata": {},
   "outputs": [
    {
     "data": {
      "text/plain": [
       "'Amid Teslaâ€™s Autopilot Probe, Nearly Half the Public Thinks Autonomous Vehicles Are Less Safe Than Normal Cars\\r\\nMore than 50% of Americans have not heard much or anything about the crashes involving Tesla vehicles using â€œAutopilotâ€\\x9d or the federal governmentâ€™s investigation into the matter.\\r\\n\\r\\n17% believe autonomous vehicles are as safe as cars driven by humans, up from 8% in 2018.\\r\\n\\r\\n37% of U.S. adults said they may ride in an autonomous vehicle in the future and 34% said they would not.\\r\\n\\r\\nThe inside of a Tesla vehicle is viewed as it sits parked in a new Tesla showroom and service center in Red Hook, Brooklyn, on July 5, 2016, in New York City. The electric car company and its chief executive and founder, Elon Musk, have come under increasing scrutiny following a crash of one of its electric cars while using the Autopilot service. (Spencer Platt/Getty Images)\\r\\n\\r\\nAs the federal government investigates Tesla Inc. for crashes involving its vehicles using the â€œAutopilotâ€\\x9d feature, a new poll indicates much of the public has safety concerns about autonomous vehicles, though Americansâ€™ interest in the cars has risen slightly compared to a few years ago. Forty-seven percent of U.S. adults said in the new Morning Consult poll that they believe AVs are less safe than cars driven by humans, down slightly from the 50 percent who said the same in a March-April 2018 survey. That poll was conducted shortly after the first-known fatal pedestrian accident in the United States involving a self-driving vehicle, which was being tested by Uber Technologies Inc. in Arizona.\\r\\n\\r\\nSeventeen percent of adults believe AVs are as safe as regular cars driven by humans, up from 8 percent who said the same in 2018, although the number of people who believe self-driving vehicles are safer than regular cars has dropped from 27 percent in 2018 to 22 percent in 2021. Despite the recent setbacks for autonomous vehicles, public interest in self-driving cars has increased slightly since 2018.\\r\\n\\r\\nIn the latest survey, 23 percent of adults said they would ride in an AV, up from 19 percent who said the same in the 2018 survey. Another 37 percent said they may ride in an AV in the future, an increase from three years ago within the surveyâ€™s 2 percentage-point margin of error. The latest poll comes on the heels of an investigation launched by the National Highway Traffic Safety Administration last month into Tesla. NHTSA said it has identified 11 instances across nine different states where Tesla vehicles that had engaged either its â€œAutopilotâ€\\x9d or â€œTraffic Aware Cruise Controlâ€\\x9d modes crashed into vehicles driven by first responders on scene at an investigation. Shortly after the agency began scrutinizing the company, a Tesla Model 3 struck a parked police car and a Mercedes SUV in Orlando, Fla., with the driver telling officers she was using Autopilot at the time of the crash. While Tesla Chief Executive Elon Musk has been bullish on his companyâ€™s efforts, describing them as â€œarguably the leaders in real-world AIâ€\\x9d during Teslaâ€™s first â€œAI Dayâ€\\x9d last month, he has also been more measured in some recent comments. In late August, he said in a tweet that Teslaâ€™s latest self-driving software update was â€œnot greatâ€\\x9d but noted that the companyâ€™s AI team was working â€œas fast as possibleâ€\\x9d to improve it. Teslaâ€™s critics, meanwhile, are keen to rein in the company. New National Transportation Safety Board Chair Jennifer Homendy told Bloomberg that confusion over the capabilities of automated driving systems like Autopilot could impact public trust in the potential safety benefits of the technology. And Sens. Ed Markey (D-Mass.) and Richard Blumenthal (D-Conn.) jointly called for the Federal Trade Commission to investigate Tesla for its â€œpotentially deceptive and unfairâ€\\x9d advertising of Autopilot as being fully autonomous. While Teslaâ€™s AV crashes have received national attention from regulators and lawmakers, polling suggests that news of the NHTSAâ€™s investigation â€“ and the crashes themselves â€“ has failed to break through to the general public.\\r\\nMore than 50% of Americans have not heard much or anything about the crashes involving Tesla vehicles using â€œAutopilotâ€\\x9d or the federal governmentâ€™s investigation into the matter.\\r\\n17% believe autonomous vehicles are as safe as cars driven by humans, up from 8% in 2018.\\r\\n37% of U.S. adults said they may ride in an autonomous vehicle in the future and 34% said they would not.\\r\\nDespite the recent setbacks for autonomous vehicles, public interest in self-driving cars has increased slightly since 2018.\\r\\nand Richard Blumenthal (D-Conn.) jointly called for the Federal Trade Commission to investigate Tesla for its â€œpotentially deceptive and unfairâ€\\x9d advertising of Autopilot as being fully autonomous.'"
      ]
     },
     "execution_count": 59,
     "metadata": {},
     "output_type": "execute_result"
    }
   ],
   "source": [
    "df.loc[5]['Content']"
   ]
  },
  {
   "cell_type": "markdown",
   "metadata": {},
   "source": [
    "1. Special character cleaning"
   ]
  },
  {
   "cell_type": "code",
   "execution_count": 60,
   "metadata": {},
   "outputs": [
    {
     "data": {
      "text/plain": [
       "'Amid Teslaâ€™s Autopilot Probe, Nearly Half the Public Thinks Autonomous Vehicles Are Less Safe Than Normal Cars  More than 50% of Americans have not heard much or anything about the crashes involving Tesla vehicles using â€œAutopilotâ€\\x9d or the federal governmentâ€™s investigation into the matter. 17% believe autonomous vehicles are as safe as cars driven by humans, up from 8% in 2018. 37% of U.S. adults said they may ride in an autonomous vehicle in the future and 34% said they would not. The inside of a Tesla vehicle is viewed as it sits parked in a new Tesla showroom and service center in Red Hook, Brooklyn, on July 5, 2016, in New York City. The electric car company and its chief executive and founder, Elon Musk, have come under increasing scrutiny following a crash of one of its electric cars while using the Autopilot service. (Spencer Platt/Getty Images) As the federal government investigates Tesla Inc. for crashes involving its vehicles using the â€œAutopilotâ€\\x9d feature, a new poll indicates much of the public has safety concerns about autonomous vehicles, though Americansâ€™ interest in the cars has risen slightly compared to a few years ago. Forty-seven percent of U.S. adults said in the new Morning Consult poll that they believe AVs are less safe than cars driven by humans, down slightly from the 50 percent who said the same in a March-April 2018 survey. That poll was conducted shortly after the first-known fatal pedestrian accident in the United States involving a self-driving vehicle, which was being tested by Uber Technologies Inc. in Arizona. Seventeen percent of adults believe AVs are as safe as regular cars driven by humans, up from 8 percent who said the same in 2018, although the number of people who believe self-driving vehicles are safer than regular cars has dropped from 27 percent in 2018 to 22 percent in 2021. Despite the recent setbacks for autonomous vehicles, public interest in self-driving cars has increased slightly since 2018. In the latest survey, 23 percent of adults said they would ride in an AV, up from 19 percent who said the same in the 2018 survey. Another 37 percent said they may ride in an AV in the future, an increase from three years ago within the surveyâ€™s 2 percentage-point margin of error. The latest poll comes on the heels of an investigation launched by the National Highway Traffic Safety Administration last month into Tesla. NHTSA said it has identified 11 instances across nine different states where Tesla vehicles that had engaged either its â€œAutopilotâ€\\x9d or â€œTraffic Aware Cruise Controlâ€\\x9d modes crashed into vehicles driven by first responders on scene at an investigation. Shortly after the agency began scrutinizing the company, a Tesla Model 3 struck a parked police car and a Mercedes SUV in Orlando, Fla., with the driver telling officers she was using Autopilot at the time of the crash. While Tesla Chief Executive Elon Musk has been bullish on his companyâ€™s efforts, describing them as â€œarguably the leaders in real-world AIâ€\\x9d during Teslaâ€™s first â€œAI Dayâ€\\x9d last month, he has also been more measured in some recent comments. In late August, he said in a tweet that Teslaâ€™s latest self-driving software update was â€œnot greatâ€\\x9d but noted that the companyâ€™s AI team was working â€œas fast as possibleâ€\\x9d to improve it. Teslaâ€™s critics, meanwhile, are keen to rein in the company. New National Transportation Safety Board Chair Jennifer Homendy told Bloomberg that confusion over the capabilities of automated driving systems like Autopilot could impact public trust in the potential safety benefits of the technology. And Sens. Ed Markey (D-Mass.) and Richard Blumenthal (D-Conn.) jointly called for the Federal Trade Commission to investigate Tesla for its â€œpotentially deceptive and unfairâ€\\x9d advertising of Autopilot as being fully autonomous. While Teslaâ€™s AV crashes have received national attention from regulators and lawmakers, polling suggests that news of the NHTSAâ€™s investigation â€“ and the crashes themselves â€“ has failed to break through to the general public.  More than 50% of Americans have not heard much or anything about the crashes involving Tesla vehicles using â€œAutopilotâ€\\x9d or the federal governmentâ€™s investigation into the matter.  17% believe autonomous vehicles are as safe as cars driven by humans, up from 8% in 2018.  37% of U.S. adults said they may ride in an autonomous vehicle in the future and 34% said they would not.  Despite the recent setbacks for autonomous vehicles, public interest in self-driving cars has increased slightly since 2018.  and Richard Blumenthal (D-Conn.) jointly called for the Federal Trade Commission to investigate Tesla for its â€œpotentially deceptive and unfairâ€\\x9d advertising of Autopilot as being fully autonomous.'"
      ]
     },
     "execution_count": 60,
     "metadata": {},
     "output_type": "execute_result"
    }
   ],
   "source": [
    "df.loc[5]['Content_Parsed_1']"
   ]
  },
  {
   "cell_type": "markdown",
   "metadata": {},
   "source": [
    "2. Upcase/downcase"
   ]
  },
  {
   "cell_type": "code",
   "execution_count": 61,
   "metadata": {},
   "outputs": [
    {
     "data": {
      "text/plain": [
       "'amid teslaâ€™s autopilot probe, nearly half the public thinks autonomous vehicles are less safe than normal cars  more than 50% of americans have not heard much or anything about the crashes involving tesla vehicles using â€œautopilotâ€\\x9d or the federal governmentâ€™s investigation into the matter. 17% believe autonomous vehicles are as safe as cars driven by humans, up from 8% in 2018. 37% of u.s. adults said they may ride in an autonomous vehicle in the future and 34% said they would not. the inside of a tesla vehicle is viewed as it sits parked in a new tesla showroom and service center in red hook, brooklyn, on july 5, 2016, in new york city. the electric car company and its chief executive and founder, elon musk, have come under increasing scrutiny following a crash of one of its electric cars while using the autopilot service. (spencer platt/getty images) as the federal government investigates tesla inc. for crashes involving its vehicles using the â€œautopilotâ€\\x9d feature, a new poll indicates much of the public has safety concerns about autonomous vehicles, though americansâ€™ interest in the cars has risen slightly compared to a few years ago. forty-seven percent of u.s. adults said in the new morning consult poll that they believe avs are less safe than cars driven by humans, down slightly from the 50 percent who said the same in a march-april 2018 survey. that poll was conducted shortly after the first-known fatal pedestrian accident in the united states involving a self-driving vehicle, which was being tested by uber technologies inc. in arizona. seventeen percent of adults believe avs are as safe as regular cars driven by humans, up from 8 percent who said the same in 2018, although the number of people who believe self-driving vehicles are safer than regular cars has dropped from 27 percent in 2018 to 22 percent in 2021. despite the recent setbacks for autonomous vehicles, public interest in self-driving cars has increased slightly since 2018. in the latest survey, 23 percent of adults said they would ride in an av, up from 19 percent who said the same in the 2018 survey. another 37 percent said they may ride in an av in the future, an increase from three years ago within the surveyâ€™s 2 percentage-point margin of error. the latest poll comes on the heels of an investigation launched by the national highway traffic safety administration last month into tesla. nhtsa said it has identified 11 instances across nine different states where tesla vehicles that had engaged either its â€œautopilotâ€\\x9d or â€œtraffic aware cruise controlâ€\\x9d modes crashed into vehicles driven by first responders on scene at an investigation. shortly after the agency began scrutinizing the company, a tesla model 3 struck a parked police car and a mercedes suv in orlando, fla., with the driver telling officers she was using autopilot at the time of the crash. while tesla chief executive elon musk has been bullish on his companyâ€™s efforts, describing them as â€œarguably the leaders in real-world aiâ€\\x9d during teslaâ€™s first â€œai dayâ€\\x9d last month, he has also been more measured in some recent comments. in late august, he said in a tweet that teslaâ€™s latest self-driving software update was â€œnot greatâ€\\x9d but noted that the companyâ€™s ai team was working â€œas fast as possibleâ€\\x9d to improve it. teslaâ€™s critics, meanwhile, are keen to rein in the company. new national transportation safety board chair jennifer homendy told bloomberg that confusion over the capabilities of automated driving systems like autopilot could impact public trust in the potential safety benefits of the technology. and sens. ed markey (d-mass.) and richard blumenthal (d-conn.) jointly called for the federal trade commission to investigate tesla for its â€œpotentially deceptive and unfairâ€\\x9d advertising of autopilot as being fully autonomous. while teslaâ€™s av crashes have received national attention from regulators and lawmakers, polling suggests that news of the nhtsaâ€™s investigation â€“ and the crashes themselves â€“ has failed to break through to the general public.  more than 50% of americans have not heard much or anything about the crashes involving tesla vehicles using â€œautopilotâ€\\x9d or the federal governmentâ€™s investigation into the matter.  17% believe autonomous vehicles are as safe as cars driven by humans, up from 8% in 2018.  37% of u.s. adults said they may ride in an autonomous vehicle in the future and 34% said they would not.  despite the recent setbacks for autonomous vehicles, public interest in self-driving cars has increased slightly since 2018.  and richard blumenthal (d-conn.) jointly called for the federal trade commission to investigate tesla for its â€œpotentially deceptive and unfairâ€\\x9d advertising of autopilot as being fully autonomous.'"
      ]
     },
     "execution_count": 61,
     "metadata": {},
     "output_type": "execute_result"
    }
   ],
   "source": [
    "df.loc[5]['Content_Parsed_2']"
   ]
  },
  {
   "cell_type": "markdown",
   "metadata": {},
   "source": [
    "3. Punctuation signs"
   ]
  },
  {
   "cell_type": "code",
   "execution_count": 62,
   "metadata": {},
   "outputs": [
    {
     "data": {
      "text/plain": [
       "'amid teslaâ€™s autopilot probe nearly half the public thinks autonomous vehicles are less safe than normal cars  more than 50% of americans have not heard much or anything about the crashes involving tesla vehicles using â€œautopilotâ€\\x9d or the federal governmentâ€™s investigation into the matter 17% believe autonomous vehicles are as safe as cars driven by humans up from 8% in 2018 37% of us adults said they may ride in an autonomous vehicle in the future and 34% said they would not the inside of a tesla vehicle is viewed as it sits parked in a new tesla showroom and service center in red hook brooklyn on july 5 2016 in new york city the electric car company and its chief executive and founder elon musk have come under increasing scrutiny following a crash of one of its electric cars while using the autopilot service (spencer platt/getty images) as the federal government investigates tesla inc for crashes involving its vehicles using the â€œautopilotâ€\\x9d feature a new poll indicates much of the public has safety concerns about autonomous vehicles though americansâ€™ interest in the cars has risen slightly compared to a few years ago forty-seven percent of us adults said in the new morning consult poll that they believe avs are less safe than cars driven by humans down slightly from the 50 percent who said the same in a march-april 2018 survey that poll was conducted shortly after the first-known fatal pedestrian accident in the united states involving a self-driving vehicle which was being tested by uber technologies inc in arizona seventeen percent of adults believe avs are as safe as regular cars driven by humans up from 8 percent who said the same in 2018 although the number of people who believe self-driving vehicles are safer than regular cars has dropped from 27 percent in 2018 to 22 percent in 2021 despite the recent setbacks for autonomous vehicles public interest in self-driving cars has increased slightly since 2018 in the latest survey 23 percent of adults said they would ride in an av up from 19 percent who said the same in the 2018 survey another 37 percent said they may ride in an av in the future an increase from three years ago within the surveyâ€™s 2 percentage-point margin of error the latest poll comes on the heels of an investigation launched by the national highway traffic safety administration last month into tesla nhtsa said it has identified 11 instances across nine different states where tesla vehicles that had engaged either its â€œautopilotâ€\\x9d or â€œtraffic aware cruise controlâ€\\x9d modes crashed into vehicles driven by first responders on scene at an investigation shortly after the agency began scrutinizing the company a tesla model 3 struck a parked police car and a mercedes suv in orlando fla with the driver telling officers she was using autopilot at the time of the crash while tesla chief executive elon musk has been bullish on his companyâ€™s efforts describing them as â€œarguably the leaders in real-world aiâ€\\x9d during teslaâ€™s first â€œai dayâ€\\x9d last month he has also been more measured in some recent comments in late august he said in a tweet that teslaâ€™s latest self-driving software update was â€œnot greatâ€\\x9d but noted that the companyâ€™s ai team was working â€œas fast as possibleâ€\\x9d to improve it teslaâ€™s critics meanwhile are keen to rein in the company new national transportation safety board chair jennifer homendy told bloomberg that confusion over the capabilities of automated driving systems like autopilot could impact public trust in the potential safety benefits of the technology and sens ed markey (d-mass) and richard blumenthal (d-conn) jointly called for the federal trade commission to investigate tesla for its â€œpotentially deceptive and unfairâ€\\x9d advertising of autopilot as being fully autonomous while teslaâ€™s av crashes have received national attention from regulators and lawmakers polling suggests that news of the nhtsaâ€™s investigation â€“ and the crashes themselves â€“ has failed to break through to the general public  more than 50% of americans have not heard much or anything about the crashes involving tesla vehicles using â€œautopilotâ€\\x9d or the federal governmentâ€™s investigation into the matter  17% believe autonomous vehicles are as safe as cars driven by humans up from 8% in 2018  37% of us adults said they may ride in an autonomous vehicle in the future and 34% said they would not  despite the recent setbacks for autonomous vehicles public interest in self-driving cars has increased slightly since 2018  and richard blumenthal (d-conn) jointly called for the federal trade commission to investigate tesla for its â€œpotentially deceptive and unfairâ€\\x9d advertising of autopilot as being fully autonomous'"
      ]
     },
     "execution_count": 62,
     "metadata": {},
     "output_type": "execute_result"
    }
   ],
   "source": [
    "df.loc[5]['Content_Parsed_3']"
   ]
  },
  {
   "cell_type": "markdown",
   "metadata": {},
   "source": [
    "4. Possessive pronouns"
   ]
  },
  {
   "cell_type": "code",
   "execution_count": 63,
   "metadata": {},
   "outputs": [
    {
     "data": {
      "text/plain": [
       "'amid teslaâ€™s autopilot probe nearly half the public thinks autonomous vehicles are less safe than normal cars  more than 50% of americans have not heard much or anything about the crashes involving tesla vehicles using â€œautopilotâ€\\x9d or the federal governmentâ€™s investigation into the matter 17% believe autonomous vehicles are as safe as cars driven by humans up from 8% in 2018 37% of us adults said they may ride in an autonomous vehicle in the future and 34% said they would not the inside of a tesla vehicle is viewed as it sits parked in a new tesla showroom and service center in red hook brooklyn on july 5 2016 in new york city the electric car company and its chief executive and founder elon musk have come under increasing scrutiny following a crash of one of its electric cars while using the autopilot service (spencer platt/getty images) as the federal government investigates tesla inc for crashes involving its vehicles using the â€œautopilotâ€\\x9d feature a new poll indicates much of the public has safety concerns about autonomous vehicles though americansâ€™ interest in the cars has risen slightly compared to a few years ago forty-seven percent of us adults said in the new morning consult poll that they believe avs are less safe than cars driven by humans down slightly from the 50 percent who said the same in a march-april 2018 survey that poll was conducted shortly after the first-known fatal pedestrian accident in the united states involving a self-driving vehicle which was being tested by uber technologies inc in arizona seventeen percent of adults believe avs are as safe as regular cars driven by humans up from 8 percent who said the same in 2018 although the number of people who believe self-driving vehicles are safer than regular cars has dropped from 27 percent in 2018 to 22 percent in 2021 despite the recent setbacks for autonomous vehicles public interest in self-driving cars has increased slightly since 2018 in the latest survey 23 percent of adults said they would ride in an av up from 19 percent who said the same in the 2018 survey another 37 percent said they may ride in an av in the future an increase from three years ago within the surveyâ€™s 2 percentage-point margin of error the latest poll comes on the heels of an investigation launched by the national highway traffic safety administration last month into tesla nhtsa said it has identified 11 instances across nine different states where tesla vehicles that had engaged either its â€œautopilotâ€\\x9d or â€œtraffic aware cruise controlâ€\\x9d modes crashed into vehicles driven by first responders on scene at an investigation shortly after the agency began scrutinizing the company a tesla model 3 struck a parked police car and a mercedes suv in orlando fla with the driver telling officers she was using autopilot at the time of the crash while tesla chief executive elon musk has been bullish on his companyâ€™s efforts describing them as â€œarguably the leaders in real-world aiâ€\\x9d during teslaâ€™s first â€œai dayâ€\\x9d last month he has also been more measured in some recent comments in late august he said in a tweet that teslaâ€™s latest self-driving software update was â€œnot greatâ€\\x9d but noted that the companyâ€™s ai team was working â€œas fast as possibleâ€\\x9d to improve it teslaâ€™s critics meanwhile are keen to rein in the company new national transportation safety board chair jennifer homendy told bloomberg that confusion over the capabilities of automated driving systems like autopilot could impact public trust in the potential safety benefits of the technology and sens ed markey (d-mass) and richard blumenthal (d-conn) jointly called for the federal trade commission to investigate tesla for its â€œpotentially deceptive and unfairâ€\\x9d advertising of autopilot as being fully autonomous while teslaâ€™s av crashes have received national attention from regulators and lawmakers polling suggests that news of the nhtsaâ€™s investigation â€“ and the crashes themselves â€“ has failed to break through to the general public  more than 50% of americans have not heard much or anything about the crashes involving tesla vehicles using â€œautopilotâ€\\x9d or the federal governmentâ€™s investigation into the matter  17% believe autonomous vehicles are as safe as cars driven by humans up from 8% in 2018  37% of us adults said they may ride in an autonomous vehicle in the future and 34% said they would not  despite the recent setbacks for autonomous vehicles public interest in self-driving cars has increased slightly since 2018  and richard blumenthal (d-conn) jointly called for the federal trade commission to investigate tesla for its â€œpotentially deceptive and unfairâ€\\x9d advertising of autopilot as being fully autonomous'"
      ]
     },
     "execution_count": 63,
     "metadata": {},
     "output_type": "execute_result"
    }
   ],
   "source": [
    "df.loc[5]['Content_Parsed_4']"
   ]
  },
  {
   "cell_type": "markdown",
   "metadata": {},
   "source": [
    "5. Stemming and Lemmatization"
   ]
  },
  {
   "cell_type": "code",
   "execution_count": 64,
   "metadata": {},
   "outputs": [
    {
     "data": {
      "text/plain": [
       "'amid teslaâ€™s autopilot probe nearly half the public think autonomous vehicles be less safe than normal cars  more than 50% of americans have not hear much or anything about the crash involve tesla vehicles use â€œautopilotâ€\\x9d or the federal governmentâ€™s investigation into the matter 17% believe autonomous vehicles be as safe as cars drive by humans up from 8% in 2018 37% of us adults say they may ride in an autonomous vehicle in the future and 34% say they would not the inside of a tesla vehicle be view as it sit park in a new tesla showroom and service center in red hook brooklyn on july 5 2016 in new york city the electric car company and its chief executive and founder elon musk have come under increase scrutiny follow a crash of one of its electric cars while use the autopilot service (spencer platt/getty images) as the federal government investigate tesla inc for crash involve its vehicles use the â€œautopilotâ€\\x9d feature a new poll indicate much of the public have safety concern about autonomous vehicles though americansâ€™ interest in the cars have rise slightly compare to a few years ago forty-seven percent of us adults say in the new morning consult poll that they believe avs be less safe than cars drive by humans down slightly from the 50 percent who say the same in a march-april 2018 survey that poll be conduct shortly after the first-known fatal pedestrian accident in the unite state involve a self-driving vehicle which be be test by uber technologies inc in arizona seventeen percent of adults believe avs be as safe as regular cars drive by humans up from 8 percent who say the same in 2018 although the number of people who believe self-driving vehicles be safer than regular cars have drop from 27 percent in 2018 to 22 percent in 2021 despite the recent setbacks for autonomous vehicles public interest in self-driving cars have increase slightly since 2018 in the latest survey 23 percent of adults say they would ride in an av up from 19 percent who say the same in the 2018 survey another 37 percent say they may ride in an av in the future an increase from three years ago within the surveyâ€™s 2 percentage-point margin of error the latest poll come on the heel of an investigation launch by the national highway traffic safety administration last month into tesla nhtsa say it have identify 11 instance across nine different state where tesla vehicles that have engage either its â€œautopilotâ€\\x9d or â€œtraffic aware cruise controlâ€\\x9d modes crash into vehicles drive by first responders on scene at an investigation shortly after the agency begin scrutinize the company a tesla model 3 strike a park police car and a mercedes suv in orlando fla with the driver tell officer she be use autopilot at the time of the crash while tesla chief executive elon musk have be bullish on his companyâ€™s efforts describe them as â€œarguably the leaders in real-world aiâ€\\x9d during teslaâ€™s first â€œai dayâ€\\x9d last month he have also be more measure in some recent comment in late august he say in a tweet that teslaâ€™s latest self-driving software update be â€œnot greatâ€\\x9d but note that the companyâ€™s ai team be work â€œas fast as possibleâ€\\x9d to improve it teslaâ€™s critics meanwhile be keen to rein in the company new national transportation safety board chair jennifer homendy tell bloomberg that confusion over the capabilities of automate drive systems like autopilot could impact public trust in the potential safety benefit of the technology and sens ed markey (d-mass) and richard blumenthal (d-conn) jointly call for the federal trade commission to investigate tesla for its â€œpotentially deceptive and unfairâ€\\x9d advertise of autopilot as be fully autonomous while teslaâ€™s av crash have receive national attention from regulators and lawmakers poll suggest that news of the nhtsaâ€™s investigation â€“ and the crash themselves â€“ have fail to break through to the general public  more than 50% of americans have not hear much or anything about the crash involve tesla vehicles use â€œautopilotâ€\\x9d or the federal governmentâ€™s investigation into the matter  17% believe autonomous vehicles be as safe as cars drive by humans up from 8% in 2018  37% of us adults say they may ride in an autonomous vehicle in the future and 34% say they would not  despite the recent setbacks for autonomous vehicles public interest in self-driving cars have increase slightly since 2018  and richard blumenthal (d-conn) jointly call for the federal trade commission to investigate tesla for its â€œpotentially deceptive and unfairâ€\\x9d advertise of autopilot as be fully autonomous'"
      ]
     },
     "execution_count": 64,
     "metadata": {},
     "output_type": "execute_result"
    }
   ],
   "source": [
    "df.loc[5]['Content_Parsed_5']"
   ]
  },
  {
   "cell_type": "markdown",
   "metadata": {},
   "source": [
    "6. Stop words"
   ]
  },
  {
   "cell_type": "code",
   "execution_count": 65,
   "metadata": {},
   "outputs": [
    {
     "data": {
      "text/plain": [
       "'amid teslaâ€™ autopilot probe nearly half  public think autonomous vehicles  less safe  normal cars    50%  americans   hear much  anything   crash involve tesla vehicles use â€œautopilotâ€\\x9d   federal governmentâ€™ investigation   matter 17% believe autonomous vehicles   safe  cars drive  humans   8%  2018 37%  us adults say  may ride   autonomous vehicle   future  34% say  would   inside   tesla vehicle  view   sit park   new tesla showroom  service center  red hook brooklyn  july 5 2016  new york city  electric car company   chief executive  founder elon musk  come  increase scrutiny follow  crash  one   electric cars  use  autopilot service (spencer platt/getty images)   federal government investigate tesla inc  crash involve  vehicles use  â€œautopilotâ€\\x9d feature  new poll indicate much   public  safety concern  autonomous vehicles though americansâ€™ interest   cars  rise slightly compare    years ago forty-seven percent  us adults say   new morning consult poll   believe avs  less safe  cars drive  humans  slightly   50 percent  say     march-april 2018 survey  poll  conduct shortly   first-known fatal pedestrian accident   unite state involve  self-driving vehicle    test  uber technologies inc  arizona seventeen percent  adults believe avs   safe  regular cars drive  humans   8 percent  say    2018 although  number  people  believe self-driving vehicles  safer  regular cars  drop  27 percent  2018  22 percent  2021 despite  recent setbacks  autonomous vehicles public interest  self-driving cars  increase slightly since 2018   latest survey 23 percent  adults say  would ride   av   19 percent  say     2018 survey another 37 percent say  may ride   av   future  increase  three years ago within  surveyâ€™ 2 percentage-point margin  error  latest poll come   heel   investigation launch   national highway traffic safety administration last month  tesla nhtsa say   identify 11 instance across nine different state  tesla vehicles   engage either  â€œautopilotâ€\\x9d  â€œtraffic aware cruise controlâ€\\x9d modes crash  vehicles drive  first responders  scene   investigation shortly   agency begin scrutinize  company  tesla model 3 strike  park police car   mercedes suv  orlando fla   driver tell officer   use autopilot   time   crash  tesla chief executive elon musk   bullish   companyâ€™ efforts describe   â€œarguably  leaders  real-world aiâ€\\x9d  teslaâ€™ first â€œai dayâ€\\x9d last month   also   measure   recent comment  late august  say   tweet  teslaâ€™ latest self-driving software update  â€œnot greatâ€\\x9d  note   companyâ€™ ai team  work â€œas fast  possibleâ€\\x9d  improve  teslaâ€™ critics meanwhile  keen  rein   company new national transportation safety board chair jennifer homendy tell bloomberg  confusion   capabilities  automate drive systems like autopilot could impact public trust   potential safety benefit   technology  sens ed markey (-mass)  richard blumenthal (-conn) jointly call   federal trade commission  investigate tesla   â€œpotentially deceptive  unfairâ€\\x9d advertise  autopilot   fully autonomous  teslaâ€™ av crash  receive national attention  regulators  lawmakers poll suggest  news   nhtsaâ€™ investigation â€“   crash  â€“  fail  break    general public    50%  americans   hear much  anything   crash involve tesla vehicles use â€œautopilotâ€\\x9d   federal governmentâ€™ investigation   matter  17% believe autonomous vehicles   safe  cars drive  humans   8%  2018  37%  us adults say  may ride   autonomous vehicle   future  34% say  would   despite  recent setbacks  autonomous vehicles public interest  self-driving cars  increase slightly since 2018   richard blumenthal (-conn) jointly call   federal trade commission  investigate tesla   â€œpotentially deceptive  unfairâ€\\x9d advertise  autopilot   fully autonomous'"
      ]
     },
     "execution_count": 65,
     "metadata": {},
     "output_type": "execute_result"
    }
   ],
   "source": [
    "df.loc[5]['Content_Parsed_6']"
   ]
  },
  {
   "cell_type": "markdown",
   "metadata": {},
   "source": [
    "Finally, we can delete the intermediate columns:"
   ]
  },
  {
   "cell_type": "code",
   "execution_count": 66,
   "metadata": {},
   "outputs": [
    {
     "data": {
      "text/html": [
       "<div>\n",
       "<style scoped>\n",
       "    .dataframe tbody tr th:only-of-type {\n",
       "        vertical-align: middle;\n",
       "    }\n",
       "\n",
       "    .dataframe tbody tr th {\n",
       "        vertical-align: top;\n",
       "    }\n",
       "\n",
       "    .dataframe thead th {\n",
       "        text-align: right;\n",
       "    }\n",
       "</style>\n",
       "<table border=\"1\" class=\"dataframe\">\n",
       "  <thead>\n",
       "    <tr style=\"text-align: right;\">\n",
       "      <th></th>\n",
       "      <th>File_Name</th>\n",
       "      <th>Content</th>\n",
       "      <th>Category</th>\n",
       "      <th>Complete_Filename</th>\n",
       "      <th>id</th>\n",
       "      <th>News_length</th>\n",
       "      <th>Content_Parsed_1</th>\n",
       "      <th>Content_Parsed_2</th>\n",
       "      <th>Content_Parsed_3</th>\n",
       "      <th>Content_Parsed_4</th>\n",
       "      <th>Content_Parsed_5</th>\n",
       "      <th>Content_Parsed_6</th>\n",
       "    </tr>\n",
       "  </thead>\n",
       "  <tbody>\n",
       "    <tr>\n",
       "      <th>0</th>\n",
       "      <td>001.txt</td>\n",
       "      <td>Why the feds are investigating Teslaâ€™s Autop...</td>\n",
       "      <td>Tesla</td>\n",
       "      <td>001.txt-Tesla</td>\n",
       "      <td>1</td>\n",
       "      <td>5657</td>\n",
       "      <td>Why the feds are investigating Teslaâ€™s Autop...</td>\n",
       "      <td>why the feds are investigating teslaâ€™s autop...</td>\n",
       "      <td>why the feds are investigating teslaâ€™s autop...</td>\n",
       "      <td>why the feds are investigating teslaâ€™s autop...</td>\n",
       "      <td>why the feds be investigate teslaâ€™s autopilo...</td>\n",
       "      <td>feds  investigate teslaâ€™ autopilot    mean...</td>\n",
       "    </tr>\n",
       "  </tbody>\n",
       "</table>\n",
       "</div>"
      ],
      "text/plain": [
       "  File_Name                                            Content Category  \\\n",
       "0   001.txt  Why the feds are investigating Teslaâ€™s Autop...    Tesla   \n",
       "\n",
       "  Complete_Filename  id  News_length  \\\n",
       "0     001.txt-Tesla   1         5657   \n",
       "\n",
       "                                    Content_Parsed_1  \\\n",
       "0  Why the feds are investigating Teslaâ€™s Autop...   \n",
       "\n",
       "                                    Content_Parsed_2  \\\n",
       "0  why the feds are investigating teslaâ€™s autop...   \n",
       "\n",
       "                                    Content_Parsed_3  \\\n",
       "0  why the feds are investigating teslaâ€™s autop...   \n",
       "\n",
       "                                    Content_Parsed_4  \\\n",
       "0  why the feds are investigating teslaâ€™s autop...   \n",
       "\n",
       "                                    Content_Parsed_5  \\\n",
       "0  why the feds be investigate teslaâ€™s autopilo...   \n",
       "\n",
       "                                    Content_Parsed_6  \n",
       "0    feds  investigate teslaâ€™ autopilot    mean...  "
      ]
     },
     "execution_count": 66,
     "metadata": {},
     "output_type": "execute_result"
    }
   ],
   "source": [
    "df.head(1)"
   ]
  },
  {
   "cell_type": "code",
   "execution_count": 67,
   "metadata": {},
   "outputs": [],
   "source": [
    "list_columns = [\"File_Name\", \"Category\", \"Complete_Filename\", \"Content\", \"Content_Parsed_6\"]\n",
    "df = df[list_columns]\n",
    "\n",
    "df = df.rename(columns={'Content_Parsed_6': 'Content_Parsed'})"
   ]
  },
  {
   "cell_type": "code",
   "execution_count": 68,
   "metadata": {
    "scrolled": true
   },
   "outputs": [
    {
     "data": {
      "text/html": [
       "<div>\n",
       "<style scoped>\n",
       "    .dataframe tbody tr th:only-of-type {\n",
       "        vertical-align: middle;\n",
       "    }\n",
       "\n",
       "    .dataframe tbody tr th {\n",
       "        vertical-align: top;\n",
       "    }\n",
       "\n",
       "    .dataframe thead th {\n",
       "        text-align: right;\n",
       "    }\n",
       "</style>\n",
       "<table border=\"1\" class=\"dataframe\">\n",
       "  <thead>\n",
       "    <tr style=\"text-align: right;\">\n",
       "      <th></th>\n",
       "      <th>File_Name</th>\n",
       "      <th>Category</th>\n",
       "      <th>Complete_Filename</th>\n",
       "      <th>Content</th>\n",
       "      <th>Content_Parsed</th>\n",
       "    </tr>\n",
       "  </thead>\n",
       "  <tbody>\n",
       "    <tr>\n",
       "      <th>0</th>\n",
       "      <td>001.txt</td>\n",
       "      <td>Tesla</td>\n",
       "      <td>001.txt-Tesla</td>\n",
       "      <td>Why the feds are investigating Teslaâ€™s Autop...</td>\n",
       "      <td>feds  investigate teslaâ€™ autopilot    mean...</td>\n",
       "    </tr>\n",
       "    <tr>\n",
       "      <th>1</th>\n",
       "      <td>002.txt</td>\n",
       "      <td>Tesla</td>\n",
       "      <td>002.txt-Tesla</td>\n",
       "      <td>Tesla Wants To Launch Full Self-Driving Public...</td>\n",
       "      <td>tesla want  launch full self-driving public be...</td>\n",
       "    </tr>\n",
       "    <tr>\n",
       "      <th>2</th>\n",
       "      <td>003.txt</td>\n",
       "      <td>Tesla</td>\n",
       "      <td>003.txt-Tesla</td>\n",
       "      <td>How Good Is Tesla Full Self-Driving (Beta) Rig...</td>\n",
       "      <td>good  tesla full self-driving (beta) right  (...</td>\n",
       "    </tr>\n",
       "    <tr>\n",
       "      <th>3</th>\n",
       "      <td>004.txt</td>\n",
       "      <td>Tesla</td>\n",
       "      <td>004.txt-Tesla</td>\n",
       "      <td>Tesla Must Send Autopilot Data to Feds by Octo...</td>\n",
       "      <td>tesla must send autopilot data  feds  october ...</td>\n",
       "    </tr>\n",
       "    <tr>\n",
       "      <th>4</th>\n",
       "      <td>005.txt</td>\n",
       "      <td>Tesla</td>\n",
       "      <td>005.txt-Tesla</td>\n",
       "      <td>Survey Reveals Tesla's Full Self-Driving Take ...</td>\n",
       "      <td>survey reveal tesla full self-driving take rat...</td>\n",
       "    </tr>\n",
       "  </tbody>\n",
       "</table>\n",
       "</div>"
      ],
      "text/plain": [
       "  File_Name Category Complete_Filename  \\\n",
       "0   001.txt    Tesla     001.txt-Tesla   \n",
       "1   002.txt    Tesla     002.txt-Tesla   \n",
       "2   003.txt    Tesla     003.txt-Tesla   \n",
       "3   004.txt    Tesla     004.txt-Tesla   \n",
       "4   005.txt    Tesla     005.txt-Tesla   \n",
       "\n",
       "                                             Content  \\\n",
       "0  Why the feds are investigating Teslaâ€™s Autop...   \n",
       "1  Tesla Wants To Launch Full Self-Driving Public...   \n",
       "2  How Good Is Tesla Full Self-Driving (Beta) Rig...   \n",
       "3  Tesla Must Send Autopilot Data to Feds by Octo...   \n",
       "4  Survey Reveals Tesla's Full Self-Driving Take ...   \n",
       "\n",
       "                                      Content_Parsed  \n",
       "0    feds  investigate teslaâ€™ autopilot    mean...  \n",
       "1  tesla want  launch full self-driving public be...  \n",
       "2   good  tesla full self-driving (beta) right  (...  \n",
       "3  tesla must send autopilot data  feds  october ...  \n",
       "4  survey reveal tesla full self-driving take rat...  "
      ]
     },
     "execution_count": 68,
     "metadata": {},
     "output_type": "execute_result"
    }
   ],
   "source": [
    "df.head()"
   ]
  },
  {
   "cell_type": "markdown",
   "metadata": {},
   "source": [
    "**IMPORTANT:**\n",
    "\n",
    "We need to remember that our model will gather the latest news articles from different newspapers every time we want. For that reason, we not only need to take into account the peculiarities of the training set articles, but also possible ones that are present in the gathered news articles.\n",
    "\n",
    "For this reason, possible peculiarities have been studied in the *05. News Scraping* folder."
   ]
  },
  {
   "cell_type": "markdown",
   "metadata": {},
   "source": [
    "## 2. Label coding"
   ]
  },
  {
   "cell_type": "markdown",
   "metadata": {},
   "source": [
    "We'll create a dictionary with the label codification:"
   ]
  },
  {
   "cell_type": "code",
   "execution_count": 69,
   "metadata": {},
   "outputs": [],
   "source": [
    "category_codes = {\n",
    "    'Tesla': 0,\n",
    "    'Waymo': 1,\n",
    "}"
   ]
  },
  {
   "cell_type": "code",
   "execution_count": 70,
   "metadata": {},
   "outputs": [],
   "source": [
    "# Category mapping\n",
    "df['Category_Code'] = df['Category']\n",
    "df = df.replace({'Category_Code':category_codes})"
   ]
  },
  {
   "cell_type": "code",
   "execution_count": 71,
   "metadata": {
    "scrolled": true
   },
   "outputs": [
    {
     "data": {
      "text/html": [
       "<div>\n",
       "<style scoped>\n",
       "    .dataframe tbody tr th:only-of-type {\n",
       "        vertical-align: middle;\n",
       "    }\n",
       "\n",
       "    .dataframe tbody tr th {\n",
       "        vertical-align: top;\n",
       "    }\n",
       "\n",
       "    .dataframe thead th {\n",
       "        text-align: right;\n",
       "    }\n",
       "</style>\n",
       "<table border=\"1\" class=\"dataframe\">\n",
       "  <thead>\n",
       "    <tr style=\"text-align: right;\">\n",
       "      <th></th>\n",
       "      <th>File_Name</th>\n",
       "      <th>Category</th>\n",
       "      <th>Complete_Filename</th>\n",
       "      <th>Content</th>\n",
       "      <th>Content_Parsed</th>\n",
       "      <th>Category_Code</th>\n",
       "    </tr>\n",
       "  </thead>\n",
       "  <tbody>\n",
       "    <tr>\n",
       "      <th>0</th>\n",
       "      <td>001.txt</td>\n",
       "      <td>Tesla</td>\n",
       "      <td>001.txt-Tesla</td>\n",
       "      <td>Why the feds are investigating Teslaâ€™s Autop...</td>\n",
       "      <td>feds  investigate teslaâ€™ autopilot    mean...</td>\n",
       "      <td>0</td>\n",
       "    </tr>\n",
       "    <tr>\n",
       "      <th>1</th>\n",
       "      <td>002.txt</td>\n",
       "      <td>Tesla</td>\n",
       "      <td>002.txt-Tesla</td>\n",
       "      <td>Tesla Wants To Launch Full Self-Driving Public...</td>\n",
       "      <td>tesla want  launch full self-driving public be...</td>\n",
       "      <td>0</td>\n",
       "    </tr>\n",
       "    <tr>\n",
       "      <th>2</th>\n",
       "      <td>003.txt</td>\n",
       "      <td>Tesla</td>\n",
       "      <td>003.txt-Tesla</td>\n",
       "      <td>How Good Is Tesla Full Self-Driving (Beta) Rig...</td>\n",
       "      <td>good  tesla full self-driving (beta) right  (...</td>\n",
       "      <td>0</td>\n",
       "    </tr>\n",
       "    <tr>\n",
       "      <th>3</th>\n",
       "      <td>004.txt</td>\n",
       "      <td>Tesla</td>\n",
       "      <td>004.txt-Tesla</td>\n",
       "      <td>Tesla Must Send Autopilot Data to Feds by Octo...</td>\n",
       "      <td>tesla must send autopilot data  feds  october ...</td>\n",
       "      <td>0</td>\n",
       "    </tr>\n",
       "    <tr>\n",
       "      <th>4</th>\n",
       "      <td>005.txt</td>\n",
       "      <td>Tesla</td>\n",
       "      <td>005.txt-Tesla</td>\n",
       "      <td>Survey Reveals Tesla's Full Self-Driving Take ...</td>\n",
       "      <td>survey reveal tesla full self-driving take rat...</td>\n",
       "      <td>0</td>\n",
       "    </tr>\n",
       "  </tbody>\n",
       "</table>\n",
       "</div>"
      ],
      "text/plain": [
       "  File_Name Category Complete_Filename  \\\n",
       "0   001.txt    Tesla     001.txt-Tesla   \n",
       "1   002.txt    Tesla     002.txt-Tesla   \n",
       "2   003.txt    Tesla     003.txt-Tesla   \n",
       "3   004.txt    Tesla     004.txt-Tesla   \n",
       "4   005.txt    Tesla     005.txt-Tesla   \n",
       "\n",
       "                                             Content  \\\n",
       "0  Why the feds are investigating Teslaâ€™s Autop...   \n",
       "1  Tesla Wants To Launch Full Self-Driving Public...   \n",
       "2  How Good Is Tesla Full Self-Driving (Beta) Rig...   \n",
       "3  Tesla Must Send Autopilot Data to Feds by Octo...   \n",
       "4  Survey Reveals Tesla's Full Self-Driving Take ...   \n",
       "\n",
       "                                      Content_Parsed  Category_Code  \n",
       "0    feds  investigate teslaâ€™ autopilot    mean...              0  \n",
       "1  tesla want  launch full self-driving public be...              0  \n",
       "2   good  tesla full self-driving (beta) right  (...              0  \n",
       "3  tesla must send autopilot data  feds  october ...              0  \n",
       "4  survey reveal tesla full self-driving take rat...              0  "
      ]
     },
     "execution_count": 71,
     "metadata": {},
     "output_type": "execute_result"
    }
   ],
   "source": [
    "df.head()"
   ]
  },
  {
   "cell_type": "markdown",
   "metadata": {},
   "source": [
    "## 3. Train - test split"
   ]
  },
  {
   "cell_type": "markdown",
   "metadata": {},
   "source": [
    "We'll set apart a test set to prove the quality of our models. We'll do Cross Validation in the train set in order to tune the hyperparameters and then test performance on the unseen data of the test set."
   ]
  },
  {
   "cell_type": "code",
   "execution_count": 72,
   "metadata": {},
   "outputs": [],
   "source": [
    "X_train, X_test, y_train, y_test = train_test_split(df['Content_Parsed'], \n",
    "                                                    df['Category_Code'], \n",
    "                                                    test_size=0.15, \n",
    "                                                    random_state=8)"
   ]
  },
  {
   "cell_type": "markdown",
   "metadata": {},
   "source": [
    "Since we don't have much observations (only 2.225), we'll choose a test set size of 15% of the full dataset."
   ]
  },
  {
   "cell_type": "markdown",
   "metadata": {},
   "source": [
    "## 4. Text representation"
   ]
  },
  {
   "cell_type": "markdown",
   "metadata": {},
   "source": [
    "We have various options:\n",
    "\n",
    "* Count Vectors as features\n",
    "* TF-IDF Vectors as features\n",
    "* Word Embeddings as features\n",
    "* Text / NLP based features\n",
    "* Topic Models as features"
   ]
  },
  {
   "cell_type": "markdown",
   "metadata": {},
   "source": [
    "We'll use **TF-IDF Vectors** as features."
   ]
  },
  {
   "cell_type": "markdown",
   "metadata": {},
   "source": [
    "We have to define the different parameters:\n",
    "\n",
    "* `ngram_range`: We want to consider both unigrams and bigrams.\n",
    "* `max_df`: When building the vocabulary ignore terms that have a document\n",
    "    frequency strictly higher than the given threshold\n",
    "* `min_df`: When building the vocabulary ignore terms that have a document\n",
    "    frequency strictly lower than the given threshold.\n",
    "* `max_features`: If not None, build a vocabulary that only consider the top\n",
    "    max_features ordered by term frequency across the corpus.\n",
    "\n",
    "See `TfidfVectorizer?` for further detail."
   ]
  },
  {
   "cell_type": "markdown",
   "metadata": {},
   "source": [
    "It needs to be mentioned that we are implicitly scaling our data when representing it as TF-IDF features with the argument `norm`."
   ]
  },
  {
   "cell_type": "code",
   "execution_count": 73,
   "metadata": {},
   "outputs": [],
   "source": [
    "# Parameter election\n",
    "ngram_range = (1,2)\n",
    "min_df = 10\n",
    "max_df = 1.\n",
    "max_features = 300"
   ]
  },
  {
   "cell_type": "markdown",
   "metadata": {},
   "source": [
    "We have chosen these values as a first approximation. Since the models that we develop later have a very good predictive power, we'll stick to these values. But it has to be mentioned that different combinations could be tried in order to improve even more the accuracy of the models."
   ]
  },
  {
   "cell_type": "code",
   "execution_count": 74,
   "metadata": {
    "scrolled": true
   },
   "outputs": [
    {
     "name": "stdout",
     "output_type": "stream",
     "text": [
      "(34, 98)\n",
      "(6, 98)\n"
     ]
    }
   ],
   "source": [
    "tfidf = TfidfVectorizer(encoding='utf-8',\n",
    "                        ngram_range=ngram_range,\n",
    "                        stop_words=None,\n",
    "                        lowercase=False,\n",
    "                        max_df=max_df,\n",
    "                        min_df=min_df,\n",
    "                        max_features=max_features,\n",
    "                        norm='l2',\n",
    "                        sublinear_tf=True)\n",
    "                        \n",
    "features_train = tfidf.fit_transform(X_train).toarray()\n",
    "labels_train = y_train\n",
    "print(features_train.shape)\n",
    "\n",
    "features_test = tfidf.transform(X_test).toarray()\n",
    "labels_test = y_test\n",
    "print(features_test.shape)"
   ]
  },
  {
   "cell_type": "markdown",
   "metadata": {},
   "source": [
    "Please note that we have fitted and then transformed the training set, but we have **only transformed** the **test set**."
   ]
  },
  {
   "cell_type": "markdown",
   "metadata": {},
   "source": [
    "We can use the Chi squared test in order to see what unigrams and bigrams are most correlated with each category:"
   ]
  },
  {
   "cell_type": "code",
   "execution_count": 75,
   "metadata": {},
   "outputs": [
    {
     "name": "stdout",
     "output_type": "stream",
     "text": [
      "# 'Tesla' category:\n",
      "  . Most correlated unigrams:\n",
      ". waymo\n",
      ". full\n",
      ". phoenix\n",
      ". part\n",
      ". fully\n",
      "  . Most correlated bigrams:\n",
      ". autonomous vehicle\n",
      ". autonomous vehicles\n",
      "\n",
      "# 'Waymo' category:\n",
      "  . Most correlated unigrams:\n",
      ". waymo\n",
      ". full\n",
      ". phoenix\n",
      ". part\n",
      ". fully\n",
      "  . Most correlated bigrams:\n",
      ". autonomous vehicle\n",
      ". autonomous vehicles\n",
      "\n"
     ]
    }
   ],
   "source": [
    "from sklearn.feature_selection import chi2\n",
    "import numpy as np\n",
    "\n",
    "for Product, category_id in sorted(category_codes.items()):\n",
    "    features_chi2 = chi2(features_train, labels_train == category_id)\n",
    "    indices = np.argsort(features_chi2[0])\n",
    "    feature_names = np.array(tfidf.get_feature_names())[indices]\n",
    "    unigrams = [v for v in feature_names if len(v.split(' ')) == 1]\n",
    "    bigrams = [v for v in feature_names if len(v.split(' ')) == 2]\n",
    "    print(\"# '{}' category:\".format(Product))\n",
    "    print(\"  . Most correlated unigrams:\\n. {}\".format('\\n. '.join(unigrams[-5:])))\n",
    "    print(\"  . Most correlated bigrams:\\n. {}\".format('\\n. '.join(bigrams[-2:])))\n",
    "    print(\"\")\n"
   ]
  },
  {
   "cell_type": "markdown",
   "metadata": {},
   "source": [
    "As we can see, the unigrams correspond well to their category. However, bigrams do not. If we get the bigrams in our features:"
   ]
  },
  {
   "cell_type": "code",
   "execution_count": 76,
   "metadata": {},
   "outputs": [
    {
     "data": {
      "text/plain": [
       "['self driving', 'elon musk', 'autonomous vehicle', 'autonomous vehicles']"
      ]
     },
     "execution_count": 76,
     "metadata": {},
     "output_type": "execute_result"
    }
   ],
   "source": [
    "bigrams"
   ]
  },
  {
   "cell_type": "markdown",
   "metadata": {},
   "source": [
    "We can see there are only six. This means the unigrams have more correlation with the category than the bigrams, and since we're restricting the number of features to the most representative 300, only a few bigrams are being considered."
   ]
  },
  {
   "cell_type": "markdown",
   "metadata": {},
   "source": [
    "Let's save the files we'll need in the next steps:"
   ]
  },
  {
   "cell_type": "code",
   "execution_count": 77,
   "metadata": {},
   "outputs": [],
   "source": [
    "# X_train\n",
    "with open('Pickles/X_train.pickle', 'wb') as output:\n",
    "    pickle.dump(X_train, output)\n",
    "    \n",
    "# X_test    \n",
    "with open('Pickles/X_test.pickle', 'wb') as output:\n",
    "    pickle.dump(X_test, output)\n",
    "    \n",
    "# y_train\n",
    "with open('Pickles/y_train.pickle', 'wb') as output:\n",
    "    pickle.dump(y_train, output)\n",
    "    \n",
    "# y_test\n",
    "with open('Pickles/y_test.pickle', 'wb') as output:\n",
    "    pickle.dump(y_test, output)\n",
    "    \n",
    "# df\n",
    "with open('Pickles/df.pickle', 'wb') as output:\n",
    "    pickle.dump(df, output)\n",
    "    \n",
    "# features_train\n",
    "with open('Pickles/features_train.pickle', 'wb') as output:\n",
    "    pickle.dump(features_train, output)\n",
    "\n",
    "# labels_train\n",
    "with open('Pickles/labels_train.pickle', 'wb') as output:\n",
    "    pickle.dump(labels_train, output)\n",
    "\n",
    "# features_test\n",
    "with open('Pickles/features_test.pickle', 'wb') as output:\n",
    "    pickle.dump(features_test, output)\n",
    "\n",
    "# labels_test\n",
    "with open('Pickles/labels_test.pickle', 'wb') as output:\n",
    "    pickle.dump(labels_test, output)\n",
    "    \n",
    "# TF-IDF object\n",
    "with open('Pickles/tfidf.pickle', 'wb') as output:\n",
    "    pickle.dump(tfidf, output)"
   ]
  },
  {
   "cell_type": "code",
   "execution_count": null,
   "metadata": {},
   "outputs": [],
   "source": []
  }
 ],
 "metadata": {
  "kernelspec": {
   "display_name": "Python 3",
   "language": "python",
   "name": "python3"
  },
  "language_info": {
   "codemirror_mode": {
    "name": "ipython",
    "version": 3
   },
   "file_extension": ".py",
   "mimetype": "text/x-python",
   "name": "python",
   "nbconvert_exporter": "python",
   "pygments_lexer": "ipython3",
   "version": "3.8.8"
  }
 },
 "nbformat": 4,
 "nbformat_minor": 4
}
