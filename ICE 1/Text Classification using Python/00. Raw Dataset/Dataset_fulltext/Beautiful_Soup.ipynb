{
 "cells": [
  {
   "cell_type": "code",
   "execution_count": 5,
   "id": "ca707085-c9f4-4b0b-8852-df3a13aa6cf1",
   "metadata": {},
   "outputs": [],
   "source": [
    "from urllib.request import Request, urlopen\n",
    "from bs4 import BeautifulSoup"
   ]
  },
  {
   "cell_type": "code",
   "execution_count": 6,
   "id": "d9e92f78-73e4-4574-a193-05dcac11774c",
   "metadata": {},
   "outputs": [],
   "source": [
    "req = Request('https://www.google.com/search?q=google+news+tesla+driving+cars&rlz=1C1UEAD_enIN967IN967&sxsrf=AOaemvL7F2X2zkhnPlplU8ASmDzvmerrPQ:1631126643948&source=lnms&tbm=nws&sa=X&ved=2ahUKEwiRjcihhPDyAhUqkmoFHWEfAL4Q_AUoAXoECAEQAw&biw=1920&bih=937', headers={'User-Agent': 'Mozilla/5.0'})\n",
    "webpage = urlopen(req).read()"
   ]
  },
  {
   "cell_type": "code",
   "execution_count": 7,
   "id": "1a01fe3e-4911-4845-9623-0e497bacff19",
   "metadata": {},
   "outputs": [],
   "source": [
    "file = open(\"text_file.txt\",\"r\")\n",
    "contents= file.read()\n",
    "soup = BeautifulSoup(contents,'html.parser')"
   ]
  },
  {
   "cell_type": "code",
   "execution_count": 8,
   "id": "e4ef58c9-b1d7-4fc2-8b1b-a0f6d9f90060",
   "metadata": {},
   "outputs": [],
   "source": [
    "f = open(\"001.txt\",\"w\")"
   ]
  },
  {
   "cell_type": "code",
   "execution_count": 9,
   "id": "5793ea59-bfa2-4c51-926c-5fa76c519285",
   "metadata": {},
   "outputs": [],
   "source": [
    "for data in soup.find_all(\"p\"):\n",
    "    sum = data.get_text()\n",
    "    f.writelines(sum)\n",
    "f.close()"
   ]
  },
  {
   "cell_type": "code",
   "execution_count": null,
   "id": "c4571705-54dd-4058-b3ab-7a5f3c87da74",
   "metadata": {},
   "outputs": [],
   "source": []
  },
  {
   "cell_type": "code",
   "execution_count": null,
   "id": "0713a767-be8b-423e-bd89-f08fbbd83d01",
   "metadata": {},
   "outputs": [],
   "source": []
  },
  {
   "cell_type": "code",
   "execution_count": null,
   "id": "af853e26-6274-48ff-83c7-be15a06a3e78",
   "metadata": {},
   "outputs": [],
   "source": []
  },
  {
   "cell_type": "code",
   "execution_count": null,
   "id": "632c16dc-a3ae-4bf9-9e66-1bd7339f9383",
   "metadata": {},
   "outputs": [],
   "source": []
  }
 ],
 "metadata": {
  "kernelspec": {
   "display_name": "Python 3",
   "language": "python",
   "name": "python3"
  },
  "language_info": {
   "codemirror_mode": {
    "name": "ipython",
    "version": 3
   },
   "file_extension": ".py",
   "mimetype": "text/x-python",
   "name": "python",
   "nbconvert_exporter": "python",
   "pygments_lexer": "ipython3",
   "version": "3.8.8"
  }
 },
 "nbformat": 4,
 "nbformat_minor": 5
}
